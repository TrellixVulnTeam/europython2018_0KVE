{
 "cells": [
  {
   "cell_type": "markdown",
   "metadata": {},
   "source": [
    "# GraphQL"
   ]
  },
  {
   "cell_type": "markdown",
   "metadata": {},
   "source": [
    "* Language agnostic\n",
    "* Strongly typed\n",
    "* Single endpoint"
   ]
  },
  {
   "cell_type": "markdown",
   "metadata": {},
   "source": [
    "## API schema design"
   ]
  },
  {
   "cell_type": "markdown",
   "metadata": {},
   "source": [
    "https://github.com/APIs-guru/graphql-voyager"
   ]
  },
  {
   "cell_type": "markdown",
   "metadata": {},
   "source": [
    "## Python library"
   ]
  },
  {
   "cell_type": "markdown",
   "metadata": {},
   "source": [
    "https://github.com/graphql-python/graphql-core"
   ]
  },
  {
   "cell_type": "code",
   "execution_count": 8,
   "metadata": {},
   "outputs": [
    {
     "name": "stdout",
     "output_type": "stream",
     "text": [
      "OrderedDict([('hello', 'world')])\n"
     ]
    }
   ],
   "source": [
    "from graphql import (\n",
    "    graphql,\n",
    "    GraphQLSchema,\n",
    "    GraphQLObjectType,\n",
    "    GraphQLField,\n",
    "    GraphQLString\n",
    ")\n",
    "\n",
    "event_type = GraphQLObjectType(\n",
    "    name='event',\n",
    "    fields={\n",
    "        'name': GraphQLField(\n",
    "            type=GraphQLString,\n",
    "            resolver=lambda root, args, _*:\"EuroPython 2018\"\n",
    "        ),\n",
    "        'description': GraphQLField(\n",
    "            type=GraphQLString,\n",
    "            resolver=lambda root, args, _*:\"The best event of the year.\"\n",
    "        ),\n",
    "        'talks': GraphQLField(\n",
    "            \n",
    "        )\n",
    "    }\n",
    ")"
   ]
  }
 ],
 "metadata": {
  "kernelspec": {
   "display_name": "Python 3",
   "language": "python",
   "name": "python3"
  },
  "language_info": {
   "codemirror_mode": {
    "name": "ipython",
    "version": 3
   },
   "file_extension": ".py",
   "mimetype": "text/x-python",
   "name": "python",
   "nbconvert_exporter": "python",
   "pygments_lexer": "ipython3",
   "version": "3.7.0"
  }
 },
 "nbformat": 4,
 "nbformat_minor": 2
}
