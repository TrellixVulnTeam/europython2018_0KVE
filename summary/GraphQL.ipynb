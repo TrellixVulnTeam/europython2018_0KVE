{
 "cells": [
  {
   "cell_type": "markdown",
   "metadata": {},
   "source": [
    "# Python and GraphQL"
   ]
  },
  {
   "cell_type": "markdown",
   "metadata": {},
   "source": [
    "* Language agnostic\n",
    "* Strongly typed\n",
    "* Single endpoint"
   ]
  },
  {
   "cell_type": "markdown",
   "metadata": {},
   "source": [
    "## API schema design"
   ]
  },
  {
   "cell_type": "markdown",
   "metadata": {},
   "source": [
    "https://github.com/APIs-guru/graphql-voyager"
   ]
  },
  {
   "cell_type": "markdown",
   "metadata": {},
   "source": [
    "## Python library"
   ]
  },
  {
   "cell_type": "markdown",
   "metadata": {},
   "source": [
    "https://github.com/graphql-python/graphql-core"
   ]
  },
  {
   "cell_type": "code",
   "execution_count": 22,
   "metadata": {},
   "outputs": [
    {
     "name": "stdout",
     "output_type": "stream",
     "text": [
      "None\n"
     ]
    }
   ],
   "source": [
    "from graphql import (\n",
    "    graphql,\n",
    "    GraphQLSchema,\n",
    "    GraphQLObjectType,\n",
    "    GraphQLField,\n",
    "    GraphQLString,\n",
    "    GraphQLList,\n",
    ")\n",
    "\n",
    "event_type = GraphQLObjectType(\n",
    "    name='event',\n",
    "    fields={\n",
    "        'name': GraphQLField(\n",
    "            type=GraphQLString,\n",
    "            resolver=lambda root, args, *_:\"EuroPython 2018\"\n",
    "        ),\n",
    "        'description': GraphQLField(\n",
    "            type=GraphQLString,\n",
    "            resolver=lambda root, args, *_:\"The best event of the year.\"\n",
    "        ),\n",
    "        'talks': GraphQLField(\n",
    "            type=GraphQLList(GraphQLString),\n",
    "            resolver=lambda root, args, *_:[\"Python and GraphQL\"]\n",
    "        )\n",
    "    }\n",
    ")\n",
    "\n",
    "schema = GraphQLSchema(\n",
    "    query=GraphQLObjectType(\n",
    "        name='RootQueryType',\n",
    "        fields={\n",
    "            'event': GraphQLField(\n",
    "                event_type,\n",
    "                resolver=lambda root, args, *_: event_type\n",
    "            )\n",
    "        }\n",
    "    )\n",
    ")\n",
    "\n",
    "query = '{ event.name }'\n",
    "\n",
    "result = graphql(schema, query)\n",
    "# Doesn't seem to return anything\n",
    "print(result.data)"
   ]
  },
  {
   "cell_type": "markdown",
   "metadata": {},
   "source": [
    "## Serving"
   ]
  },
  {
   "cell_type": "markdown",
   "metadata": {},
   "source": [
    "Can be easily served from a simple Flask application;"
   ]
  },
  {
   "cell_type": "markdown",
   "metadata": {},
   "source": [
    "```python\n",
    "app = Flask(__name__)\n",
    "app.add_url_rule(\n",
    "    '/graphql',\n",
    "    view_func=GraphQLView.as_view(\n",
    "        'graphql',\n",
    "        schema=schema,\n",
    "        graphiql=True\n",
    "    )\n",
    ")\n",
    "```"
   ]
  },
  {
   "cell_type": "markdown",
   "metadata": {},
   "source": [
    "## Django Integration"
   ]
  },
  {
   "cell_type": "markdown",
   "metadata": {},
   "source": [
    "Using Graphene: https://github.com/graphql-python/graphene-django/"
   ]
  }
 ],
 "metadata": {
  "kernelspec": {
   "display_name": "Python 3",
   "language": "python",
   "name": "python3"
  },
  "language_info": {
   "codemirror_mode": {
    "name": "ipython",
    "version": 3
   },
   "file_extension": ".py",
   "mimetype": "text/x-python",
   "name": "python",
   "nbconvert_exporter": "python",
   "pygments_lexer": "ipython3",
   "version": "3.7.0"
  }
 },
 "nbformat": 4,
 "nbformat_minor": 2
}
