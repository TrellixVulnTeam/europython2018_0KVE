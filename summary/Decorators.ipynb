{
 "cells": [
  {
   "cell_type": "markdown",
   "metadata": {},
   "source": [
    "# Decorators written as classes"
   ]
  },
  {
   "cell_type": "code",
   "execution_count": 40,
   "metadata": {},
   "outputs": [],
   "source": [
    "from unittest.mock import MagicMock"
   ]
  },
  {
   "cell_type": "code",
   "execution_count": 15,
   "metadata": {},
   "outputs": [
    {
     "name": "stdout",
     "output_type": "stream",
     "text": [
      "(10, 30) {}\n"
     ]
    },
    {
     "data": {
      "text/plain": [
       "15"
      ]
     },
     "execution_count": 15,
     "metadata": {},
     "output_type": "execute_result"
    }
   ],
   "source": [
    "import random\n",
    "\n",
    "class trace_it:\n",
    "    def __init__(self, func):\n",
    "        self.func = func\n",
    "    def __call__(self, *args, **kwargs):\n",
    "        print(args, kwargs)\n",
    "        return self.func(*args, **kwargs)\n",
    "        \n",
    "@trace_it\n",
    "def rand(min_val, max_val):\n",
    "    return random.randint(min_val, max_val)\n",
    "rand(10,30)"
   ]
  },
  {
   "cell_type": "markdown",
   "metadata": {},
   "source": [
    "# Categories\n",
    "Category terminology propsed by Andy Fundinger from Bloomberg."
   ]
  },
  {
   "cell_type": "markdown",
   "metadata": {},
   "source": [
    "## A-Decorators (Argument Changing)\n",
    "* add or remove an argument when the function is called\n",
    "* change the value or type of an argument at call time\n",
    "* similarly alter the return value\n",
    "**Problems**\n",
    "* calling the apparent signature does not actually work\n",
    "* calling a function for a test requires injecting data to drive the decorator properly"
   ]
  },
  {
   "cell_type": "markdown",
   "metadata": {},
   "source": [
    "### Example: pytest.mark.parametrize()"
   ]
  },
  {
   "cell_type": "code",
   "execution_count": 19,
   "metadata": {},
   "outputs": [],
   "source": [
    "import pytest\n",
    "\n",
    "@pytest.mark.parametrize(\"test_input,expected\", [\n",
    "    (\"3+5\", 8),\n",
    "    (\"2+4\", 6),\n",
    "    (\"6*9\", 42),\n",
    "])\n",
    "\n",
    "def test_eval(test_input, expected):\n",
    "    assert eval(test_input) == expected"
   ]
  },
  {
   "cell_type": "markdown",
   "metadata": {},
   "source": [
    "## B-Decorators (Binding Decorators)\n",
    "* implement the Descriptor Protocol to change how functions behave\n",
    "* the standard library includes @staticmethod, @classmethod, and @property\n",
    "\n",
    "**Problems**\n",
    "* creates an alternative to instance methods and attributes\n",
    "* new language patterns arguably better fitting other languages\n",
    "*time shifts otherwise normal exceptions or introduces new ones"
   ]
  },
  {
   "cell_type": "markdown",
   "metadata": {},
   "source": [
    "### Example: SQLAlchemy Hybrid Properties"
   ]
  },
  {
   "cell_type": "code",
   "execution_count": 39,
   "metadata": {},
   "outputs": [],
   "source": [
    "#from sqlalchemy import func\n",
    "hybrid_property= MagicMock()\n",
    "\n",
    "class Interval(object):\n",
    "    @hybrid_property\n",
    "    def radius(self):\n",
    "        return abs(self.length) / 2\n",
    "\n",
    "    @radius.expression\n",
    "    def radius(cls):\n",
    "        return func.abs(cls.length) / 2"
   ]
  },
  {
   "cell_type": "markdown",
   "metadata": {},
   "source": [
    "### Example implementation -- instance method"
   ]
  },
  {
   "cell_type": "code",
   "execution_count": 27,
   "metadata": {},
   "outputs": [],
   "source": [
    "class instance_method:\n",
    "    def __init__(self, func):\n",
    "        self.func = func\n",
    "    def __get__(self, inst, cls):\n",
    "        if inst is None:\n",
    "            raise TypeError(f'{self.func.__name__} is only valid on instances.')\n",
    "        return self.func.__get__(inst, cls)\n",
    "    \n",
    "class GoodClass:\n",
    "    @instance_method\n",
    "    def simple_method(self):\n",
    "        print('simple_method')\n",
    "    def normal_method(self):\n",
    "        print('normal_method')"
   ]
  },
  {
   "cell_type": "code",
   "execution_count": 28,
   "metadata": {},
   "outputs": [
    {
     "name": "stdout",
     "output_type": "stream",
     "text": [
      "normal_method\n",
      "simple_method\n"
     ]
    }
   ],
   "source": [
    "GoodClass().normal_method()\n",
    "GoodClass().simple_method()"
   ]
  },
  {
   "cell_type": "code",
   "execution_count": 30,
   "metadata": {},
   "outputs": [
    {
     "data": {
      "text/plain": [
       "<function __main__.GoodClass.normal_method(self)>"
      ]
     },
     "execution_count": 30,
     "metadata": {},
     "output_type": "execute_result"
    }
   ],
   "source": [
    "GoodClass.normal_method"
   ]
  },
  {
   "cell_type": "code",
   "execution_count": 31,
   "metadata": {},
   "outputs": [
    {
     "ename": "TypeError",
     "evalue": "simple_method is only valid on instances.",
     "output_type": "error",
     "traceback": [
      "\u001b[0;31m---------------------------------------------------------------------------\u001b[0m",
      "\u001b[0;31mTypeError\u001b[0m                                 Traceback (most recent call last)",
      "\u001b[0;32m<ipython-input-31-5ffb98a5765b>\u001b[0m in \u001b[0;36m<module>\u001b[0;34m()\u001b[0m\n\u001b[0;32m----> 1\u001b[0;31m \u001b[0mGoodClass\u001b[0m\u001b[0;34m.\u001b[0m\u001b[0msimple_method\u001b[0m\u001b[0;34m\u001b[0m\u001b[0m\n\u001b[0m",
      "\u001b[0;32m<ipython-input-27-2efb68cc4b12>\u001b[0m in \u001b[0;36m__get__\u001b[0;34m(self, inst, cls)\u001b[0m\n\u001b[1;32m      4\u001b[0m     \u001b[0;32mdef\u001b[0m \u001b[0m__get__\u001b[0m\u001b[0;34m(\u001b[0m\u001b[0mself\u001b[0m\u001b[0;34m,\u001b[0m \u001b[0minst\u001b[0m\u001b[0;34m,\u001b[0m \u001b[0mcls\u001b[0m\u001b[0;34m)\u001b[0m\u001b[0;34m:\u001b[0m\u001b[0;34m\u001b[0m\u001b[0m\n\u001b[1;32m      5\u001b[0m         \u001b[0;32mif\u001b[0m \u001b[0minst\u001b[0m \u001b[0;32mis\u001b[0m \u001b[0;32mNone\u001b[0m\u001b[0;34m:\u001b[0m\u001b[0;34m\u001b[0m\u001b[0m\n\u001b[0;32m----> 6\u001b[0;31m             \u001b[0;32mraise\u001b[0m \u001b[0mTypeError\u001b[0m\u001b[0;34m(\u001b[0m\u001b[0;34mf'{self.func.__name__} is only valid on instances.'\u001b[0m\u001b[0;34m)\u001b[0m\u001b[0;34m\u001b[0m\u001b[0m\n\u001b[0m\u001b[1;32m      7\u001b[0m         \u001b[0;32mreturn\u001b[0m \u001b[0mself\u001b[0m\u001b[0;34m.\u001b[0m\u001b[0mfunc\u001b[0m\u001b[0;34m.\u001b[0m\u001b[0m__get__\u001b[0m\u001b[0;34m(\u001b[0m\u001b[0minst\u001b[0m\u001b[0;34m,\u001b[0m \u001b[0mcls\u001b[0m\u001b[0;34m)\u001b[0m\u001b[0;34m\u001b[0m\u001b[0m\n\u001b[1;32m      8\u001b[0m \u001b[0;34m\u001b[0m\u001b[0m\n",
      "\u001b[0;31mTypeError\u001b[0m: simple_method is only valid on instances."
     ]
    }
   ],
   "source": [
    "GoodClass.simple_method"
   ]
  },
  {
   "cell_type": "markdown",
   "metadata": {},
   "source": [
    "## C-Decorators (Control Flow)\n",
    "* change whether a function will be called and how many times\n",
    "\n",
    "**Problems**\n",
    "* a predictable control flow now has a hidden conditional\n",
    "* a single invocation might now lead to 0, 1, or many executions of the function"
   ]
  },
  {
   "cell_type": "markdown",
   "metadata": {},
   "source": [
    "### Example: Retry Decorator"
   ]
  },
  {
   "cell_type": "code",
   "execution_count": 34,
   "metadata": {},
   "outputs": [
    {
     "name": "stdout",
     "output_type": "stream",
     "text": [
      "<MagicMock name='mock()()' id='140608917228344'>\n"
     ]
    }
   ],
   "source": [
    "#from retrying import retry\n",
    "retry = MagicMock()\n",
    "\n",
    "@retry\n",
    "def do_something_unreliable():\n",
    "    if random.randint(0, 10) > 1:\n",
    "        raise IOError(\"Broken sauce, everything is hosed!!!111one\")\n",
    "    else:\n",
    "        return \"Awesome sauce!\"\n",
    "\n",
    "print(do_something_unreliable())"
   ]
  },
  {
   "cell_type": "markdown",
   "metadata": {},
   "source": [
    "### Example implementation -- infinite retry"
   ]
  },
  {
   "cell_type": "code",
   "execution_count": 37,
   "metadata": {},
   "outputs": [
    {
     "name": "stdout",
     "output_type": "stream",
     "text": [
      "Invalid negative number -65\n",
      "Invalid negative number -69\n",
      "Invalid negative number -24\n"
     ]
    },
    {
     "data": {
      "text/plain": [
       "0"
      ]
     },
     "execution_count": 37,
     "metadata": {},
     "output_type": "execute_result"
    }
   ],
   "source": [
    "def infinite_retry(func):\n",
    "    def wrapper(*args, **kwargs):\n",
    "        while True:\n",
    "            try:\n",
    "                return func(*args, **kwargs)\n",
    "            except RuntimeError as e:\n",
    "                print(e)\n",
    "    return wrapper\n",
    "\n",
    "@infinite_retry\n",
    "def random_fail(max_value):\n",
    "    ret = random.randint(-100, max_value)\n",
    "    if ret<0:\n",
    "        raise RuntimeError(\"Invalid negative number {ret}\".format(ret=ret))\n",
    "    return ret\n",
    "\n",
    "random_fail(10)"
   ]
  },
  {
   "cell_type": "code",
   "execution_count": 38,
   "metadata": {},
   "outputs": [],
   "source": [
    "#import pytest\n",
    "pytest = MagicMock()\n",
    "\n",
    "@pytest.mark.webtest\n",
    "def test_send_http():\n",
    "    pass # perform some webtest test for your app\n",
    "def test_something_quick():\n",
    "    pass\n",
    "def test_another():\n",
    "    pass\n",
    "class TestClass(object):\n",
    "    def test_method(self):\n",
    "        pass"
   ]
  },
  {
   "cell_type": "markdown",
   "metadata": {},
   "source": [
    "## D-Decorators (Descriptive)\n",
    "* add the decorated object to some sort of collection\n",
    "* this collection will serve some other purpose such as:\n",
    " * documentation\n",
    " * dispatching\n",
    " * plugins\n",
    "\n",
    "**Problems**\n",
    "* it's unclear how dispatching will be done as a result of registration\n",
    "* similarly it's hard to see where the registration is maintained"
   ]
  },
  {
   "cell_type": "markdown",
   "metadata": {},
   "source": [
    "### Example: flask.app.route"
   ]
  },
  {
   "cell_type": "code",
   "execution_count": 43,
   "metadata": {},
   "outputs": [],
   "source": [
    "#app = Flask(__name__)\n",
    "app = MagicMock()\n",
    "\n",
    "@app.route('/')\n",
    "def hello_world():\n",
    "    return 'Hello, World!'"
   ]
  },
  {
   "cell_type": "markdown",
   "metadata": {},
   "source": [
    "### Example implementation -- qa list"
   ]
  },
  {
   "cell_type": "code",
   "execution_count": 46,
   "metadata": {},
   "outputs": [],
   "source": [
    "import warnings \n",
    "\n",
    "to_qa=[]\n",
    "def qa(func):\n",
    "    to_qa.append(func.__name__)\n",
    "    return func\n",
    "\n",
    "@qa\n",
    "def new_code(): pass\n",
    "\n",
    "@qa\n",
    "def refactored_code(): pass\n",
    "\n",
    "def well_trusted_code(): pass"
   ]
  },
  {
   "cell_type": "code",
   "execution_count": 47,
   "metadata": {},
   "outputs": [
    {
     "data": {
      "text/plain": [
       "['new_code', 'refactored_code']"
      ]
     },
     "execution_count": 47,
     "metadata": {},
     "output_type": "execute_result"
    }
   ],
   "source": [
    "to_qa"
   ]
  },
  {
   "cell_type": "markdown",
   "metadata": {},
   "source": [
    "## E-Decorators (Execution)\n",
    "* reads the method/class code\n",
    "* may reinterpret the source code to basically not be python\n",
    "\n",
    "**Problems**\n",
    "* many\n",
    "* and more\n",
    "\n",
    "This truly means that the code you wrote is changed--by the decorator--to some other code that is then executed. It might:\n",
    "\n",
    "* be analyzed for dependencies\n",
    "* have objects in the ast swapped out, injected or removed\n",
    "* be recompiled with different rules"
   ]
  },
  {
   "cell_type": "markdown",
   "metadata": {},
   "source": [
    "### Example: cython"
   ]
  },
  {
   "cell_type": "code",
   "execution_count": 50,
   "metadata": {},
   "outputs": [],
   "source": [
    "cython = MagicMock()\n",
    "\n",
    "@cython.locals(a=cython.double, b=cython.double, n=cython.p_double)\n",
    "def foo(a, b, x, y):\n",
    "    n = a*b\n",
    "    ..."
   ]
  },
  {
   "cell_type": "markdown",
   "metadata": {},
   "source": [
    "### Example implementation -- code replacer"
   ]
  },
  {
   "cell_type": "code",
   "execution_count": 57,
   "metadata": {},
   "outputs": [],
   "source": [
    "import inspect\n",
    "def replacer(old, new):\n",
    "    def deco(func):\n",
    "        source = inspect.getsource(func.__code__)\n",
    "        lines = source.split('\\n')\n",
    "        new_source = lines[1]+'\\n'+('\\n'.join(lines[2:]).replace(old, new))\n",
    "        exec(new_source,globals())\n",
    "        return globals()[func.__name__]\n",
    "    return deco"
   ]
  },
  {
   "cell_type": "code",
   "execution_count": 55,
   "metadata": {},
   "outputs": [
    {
     "name": "stdout",
     "output_type": "stream",
     "text": [
      "Sample: 10\n"
     ]
    }
   ],
   "source": [
    "def sample(a, b):\n",
    "    x = a + b\n",
    "    y = x * 2\n",
    "    print('Sample: ' + str(y))\n",
    "sample(1,4)"
   ]
  },
  {
   "cell_type": "code",
   "execution_count": 59,
   "metadata": {},
   "outputs": [
    {
     "name": "stdout",
     "output_type": "stream",
     "text": [
      "Sample: 26\n"
     ]
    }
   ],
   "source": [
    "@replacer('b','b*3')\n",
    "def sample(a, b):\n",
    "    x = a + b\n",
    "    y = x * 2\n",
    "    print('Sample: ' + str(y))\n",
    "sample(1,4)"
   ]
  },
  {
   "cell_type": "markdown",
   "metadata": {},
   "source": [
    "**Careful...**"
   ]
  },
  {
   "cell_type": "code",
   "execution_count": 62,
   "metadata": {},
   "outputs": [
    {
     "name": "stdout",
     "output_type": "stream",
     "text": [
      "Sa*3mple: 14\n"
     ]
    }
   ],
   "source": [
    "@replacer('a','a*3')\n",
    "def sample(a, b):\n",
    "    x = a + b\n",
    "    y = x * 2\n",
    "    print('Sample: ' + str(y))\n",
    "sample(1,4)"
   ]
  },
  {
   "cell_type": "markdown",
   "metadata": {},
   "source": [
    "Other tools available for execution decorators\n",
    "* bytecode manipulation\n",
    "* ast manipulation"
   ]
  },
  {
   "cell_type": "markdown",
   "metadata": {},
   "source": [
    "# Examples"
   ]
  },
  {
   "cell_type": "markdown",
   "metadata": {},
   "source": [
    "* Argument changing\n",
    " * @click.option\n",
    " * @flask.templated\n",
    " * @django.views.decorators.gzip.gzip_page\n",
    "* Binding\n",
    " * @variants.primary\n",
    " * @pyramid.decorator.reify\n",
    "* Control flow\n",
    " * @functools.lru_cache\n",
    " * @django.views.decorators.http.require_http_methods\n",
    " * @twisted.internet.defer.inlineCallbacks\n",
    "* Descriptive\n",
    " * @numpy.testing.decorators.setastest\n",
    "* Execution\n",
    " * @numba.jit"
   ]
  }
 ],
 "metadata": {
  "kernelspec": {
   "display_name": "Python 3",
   "language": "python",
   "name": "python3"
  },
  "language_info": {
   "codemirror_mode": {
    "name": "ipython",
    "version": 3
   },
   "file_extension": ".py",
   "mimetype": "text/x-python",
   "name": "python",
   "nbconvert_exporter": "python",
   "pygments_lexer": "ipython3",
   "version": "3.7.0"
  }
 },
 "nbformat": 4,
 "nbformat_minor": 2
}
