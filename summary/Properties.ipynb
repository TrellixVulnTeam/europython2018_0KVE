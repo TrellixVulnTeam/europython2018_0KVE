{
 "cells": [
  {
   "cell_type": "markdown",
   "metadata": {},
   "source": [
    "# Properties"
   ]
  },
  {
   "cell_type": "markdown",
   "metadata": {},
   "source": [
    "## Property get/set decorator"
   ]
  },
  {
   "cell_type": "code",
   "execution_count": 20,
   "metadata": {},
   "outputs": [
    {
     "name": "stdout",
     "output_type": "stream",
     "text": [
      "Radius: 10, Area: 314.1592653589793\n",
      "Radius: 6.90988298942671, Area: 150.00000000000003\n"
     ]
    }
   ],
   "source": [
    "import math\n",
    "\n",
    "class Circle:\n",
    "    def __init__(self, center, radius):\n",
    "        self.center = center\n",
    "        self.radius = radius\n",
    "    \n",
    "    @property\n",
    "    def area(self):\n",
    "        return math.pi * self.radius ** 2\n",
    "    \n",
    "    @area.setter\n",
    "    def area(self, value):\n",
    "        assert isinstance(value, int), \"Diameter must be float\"\n",
    "        self.radius = math.sqrt(value/math.pi)\n",
    "\n",
    "        \n",
    "circle = Circle((1, 2), 10)\n",
    "print(f'Radius: {circle.radius}, Area: {circle.area}')\n",
    "circle.area = 150\n",
    "print(f'Radius: {circle.radius}, Area: {circle.area}')"
   ]
  },
  {
   "cell_type": "markdown",
   "metadata": {},
   "source": [
    "## Property descriptor"
   ]
  },
  {
   "cell_type": "code",
   "execution_count": null,
   "metadata": {},
   "outputs": [],
   "source": [
    "class TypeChecker:\n",
    "    required_type = object\n",
    "\n",
    "    def __init__(self, name):\n",
    "        self.name = f'_{name}'\n",
    "\n",
    "    def __get__(self, instance, owner=None):\n",
    "        return instance.__dict__[self.name]\n",
    "\n",
    "    def __set__(self, instance, value):\n",
    "        assert isinstance(value, self.required_type), \\\n",
    "               f'Booooo! Expecting a {self.required_type.__name__}'\n",
    "        instance.__dict__[self.name] = value\n",
    "\n",
    "\n",
    "class IntType(TypeChecker):\n",
    "    required_type = int\n",
    "\n",
    "    \n",
    "class FloatType(TypeChecker):\n",
    "    required_type = float\n",
    "    \n",
    "    \n",
    "class Point:\n",
    "    x = IntType('x')\n",
    "    y = IntType('y')\n",
    "\n",
    "    def __init__(self, x, y):\n",
    "        self.x = x\n",
    "        self.y = y\n",
    "\n",
    "    def move_by(self, dx, dy):\n",
    "        self.x += dx\n",
    "        self.y += dy\n",
    "\n",
    "    def __str__(self):\n",
    "        return f'A Point at {self.x}, {self.y}'\n",
    "\n",
    "    def __repr__(self):\n",
    "        return f'{self.__class__.__name__}({self.x}, {self.y})'\n",
    "\n",
    "\n",
    "class PointType(TypeChecker):\n",
    "    required_type = Point\n",
    "\n",
    "\n",
    "class Circle:\n",
    "    center = PointType('center')\n",
    "    radius = IntType('radius')\n",
    "\n",
    "    def __init__(self, center, radius):\n",
    "        self.center = center\n",
    "        self.radius = radius\n",
    "\n",
    "    @property\n",
    "    def area(self):\n",
    "        return pi * self.radius ** 2\n",
    "\n",
    "    def __str__(self):\n",
    "        return f'A Circle at {self.center.x}, {self.center.y} and ' + \\\n",
    "               f'radius {self.radius}'\n",
    "\n",
    "    def __repr__(self):\n",
    "        return f'{self.__class__.__name__}({self.center!r}, {self.radius!r})'"
   ]
  }
 ],
 "metadata": {
  "kernelspec": {
   "display_name": "Python 3",
   "language": "python",
   "name": "python3"
  },
  "language_info": {
   "codemirror_mode": {
    "name": "ipython",
    "version": 3
   },
   "file_extension": ".py",
   "mimetype": "text/x-python",
   "name": "python",
   "nbconvert_exporter": "python",
   "pygments_lexer": "ipython3",
   "version": "3.7.0"
  }
 },
 "nbformat": 4,
 "nbformat_minor": 2
}
